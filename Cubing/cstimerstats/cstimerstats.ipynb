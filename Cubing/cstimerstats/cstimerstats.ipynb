{
 "nbformat": 4,
 "nbformat_minor": 2,
 "metadata": {
  "language_info": {
   "name": "python",
   "codemirror_mode": {
    "name": "ipython",
    "version": 3
   },
   "version": "3.8.1-final"
  },
  "orig_nbformat": 2,
  "file_extension": ".py",
  "mimetype": "text/x-python",
  "name": "python",
  "npconvert_exporter": "python",
  "pygments_lexer": "ipython3",
  "version": 3,
  "kernelspec": {
   "name": "python38164bitf06d7f02bc4b4630bf74c6adb02dc297",
   "display_name": "Python 3.8.1 64-bit"
  }
 },
 "cells": [
  {
   "cell_type": "code",
   "execution_count": 45,
   "metadata": {},
   "outputs": [],
   "source": [
    "import numpy as np \n",
    "import matplotlib.pyplot as plt \n",
    "import pandas as pd \n",
    "import scipy.stats as stats \n",
    "\n",
    "df['00'] = pd.read_csv('csTimerExport_20200322_164327.csv',';')['P.1']\n",
    "df['01'] = pd.read_csv('csTimerExport_20200322_165643.csv',';')['P.1']\n",
    "df['02'] = pd.read_csv('csTimerExport_20200322_184404.csv',';')['P.1']\n",
    "df['03'] = pd.read_csv('csTimerExport_20200322_200101.csv',';')['P.1']\n",
    "df['04'] = pd.read_csv('csTimerExport_20200323_004836.csv',';')['P.1']\n",
    ""
   ]
  },
  {
   "cell_type": "code",
   "execution_count": 46,
   "metadata": {},
   "outputs": [
    {
     "output_type": "execute_result",
     "data": {
      "text/plain": "Index(['No.', 'Time', 'Comment', 'Scramble', 'Date', 'P.1', '01', '02', '00',\n       '03', '04'],\n      dtype='object')"
     },
     "metadata": {},
     "execution_count": 46
    }
   ],
   "source": [
    "df.keys()"
   ]
  },
  {
   "cell_type": "code",
   "execution_count": 39,
   "metadata": {},
   "outputs": [
    {
     "output_type": "stream",
     "name": "stdout",
     "text": "1.5058565074038657\n2.0173656407697416\n"
    }
   ],
   "source": [
    "print(np.std(ke['P.1']))\n",
    "print(np.std(ay['P.1']))"
   ]
  }
 ]
}